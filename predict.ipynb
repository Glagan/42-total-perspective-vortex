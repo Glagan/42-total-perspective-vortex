{
 "cells": [
  {
   "cell_type": "code",
   "execution_count": 9,
   "metadata": {},
   "outputs": [],
   "source": [
    "import numpy as np \n",
    "import joblib\n",
    "import timeit\n",
    "import os\n",
    "\n",
    "from sklearn.metrics import accuracy_score\n",
    "\n",
    "import mne\n",
    "from mne import Epochs, pick_types, annotations_from_events, events_from_annotations\n",
    "from mne.channels import make_standard_montage\n",
    "from mne.io import concatenate_raws, read_raw_edf\n",
    "from mne.datasets import eegbci\n",
    "\n",
    "mne.set_log_level(\"CRITICAL\")"
   ]
  },
  {
   "cell_type": "code",
   "execution_count": 10,
   "metadata": {},
   "outputs": [],
   "source": [
    "tmin, tmax = -1.0, 4.0\n",
    "drop_channels = False\n",
    "subjects_count = 5"
   ]
  },
  {
   "cell_type": "code",
   "execution_count": 11,
   "metadata": {},
   "outputs": [],
   "source": [
    "experiments = [\n",
    "    {\n",
    "        \"runs\": [3, 7, 11],\n",
    "        \"mapping\": {0: \"rest\", 1: \"left fist\", 2: \"right fist\"},\n",
    "        \"event_id\": {\"left fist\": 1, \"right fist\": 2},\n",
    "    },\n",
    "    {\n",
    "        \"runs\": [4, 8, 12],\n",
    "        \"mapping\": {0: \"rest\", 1: \"imagine left fist\", 2: \"imagine right fist\"},\n",
    "        \"event_id\": {\"imagine left fist\":1, \"imagine right fist\":2},\n",
    "    },\n",
    "    {\n",
    "        \"runs\": [5, 9, 13],\n",
    "        \"mapping\": {0: \"rest\", 1: \"both fists\", 2: \"both feets\"},\n",
    "        \"event_id\": {\"both fists\": 1, \"both feets\": 2},\n",
    "    },\n",
    "    {\n",
    "        \"runs\": [6, 10, 14],\n",
    "        \"mapping\": {0: \"rest\", 1: \"imagine both fists\", 2: \"imagine both feets\"},\n",
    "        \"event_id\": {\"imagine both fists\": 1, \"imagine both feets\": 2},\n",
    "    },\n",
    "]"
   ]
  },
  {
   "cell_type": "code",
   "execution_count": 12,
   "metadata": {},
   "outputs": [
    {
     "name": "stdout",
     "output_type": "stream",
     "text": [
      "Subject #1\n",
      "[Training] Accuracy: 91.11% in 0.005s\n",
      "[Training] Accuracy: 100.00% in 0.003s\n",
      "[Training] Accuracy: 100.00% in 0.0043s\n",
      "[Training] Accuracy: 100.00% in 0.006s\n",
      "Subject #2\n",
      "[Training] Accuracy: 88.89% in 0.0031s\n",
      "[Training] Accuracy: 93.33% in 0.0063s\n",
      "[Training] Accuracy: 100.00% in 0.004s\n",
      "[Training] Accuracy: 84.44% in 0.0029s\n",
      "Subject #3\n",
      "[Training] Accuracy: 100.00% in 0.0031s\n",
      "[Training] Accuracy: 100.00% in 0.003s\n",
      "[Training] Accuracy: 97.78% in 0.0031s\n",
      "[Training] Accuracy: 93.33% in 0.003s\n",
      "Subject #4\n",
      "[Training] Accuracy: 100.00% in 0.0031s\n",
      "[Training] Accuracy: 97.78% in 0.0031s\n",
      "[Training] Accuracy: 97.78% in 0.0033s\n",
      "[Training] Accuracy: 88.89% in 0.003s\n",
      "Subject #5\n",
      "[Training] Accuracy: 100.00% in 0.003s\n",
      "[Training] Accuracy: 97.78% in 0.0029s\n",
      "[Training] Accuracy: 95.56% in 0.005s\n",
      "[Training] Accuracy: 97.78% in 0.0032s\n"
     ]
    }
   ],
   "source": [
    "all_accuracies = []\n",
    "for subject in range(1, subjects_count + 1):\n",
    "    print(f\"Subject #{subject}\")\n",
    "\n",
    "    for experiment_id, experiment in enumerate(experiments):\n",
    "        model_file = f\"models/model_{subject}_{experiment_id}.z\"\n",
    "        if not os.path.isfile(model_file):\n",
    "            os.remove(model_file)\n",
    "            print(f\"Skipped experiment {experiment_id + 1}: Missing model\")\n",
    "            continue\n",
    "        model = joblib.load(model_file)\n",
    "        raw_fnames = [f\"dataset/S{subject:03d}/S{subject:03d}R{run:02d}.edf\" for run in experiment[\"runs\"]]\n",
    "        raw = concatenate_raws([read_raw_edf(f, preload=True) for f in raw_fnames])\n",
    "        events, _ = events_from_annotations(raw, event_id=dict(T0=0, T1=1, T2=2))\n",
    "        annot_from_events = annotations_from_events(\n",
    "            events=events, event_desc=experiment[\"mapping\"], sfreq=raw.info[\"sfreq\"]\n",
    "        )\n",
    "        raw.set_annotations(annot_from_events)\n",
    "        eegbci.standardize(raw)  # set channel names\n",
    "        montage = make_standard_montage(\"biosemi64\")\n",
    "        raw.set_montage(montage, on_missing='ignore')\n",
    "\n",
    "        # Select channels\n",
    "        if drop_channels:\n",
    "            channels = raw.info[\"ch_names\"] \n",
    "            good_channels = [\n",
    "                \"FC3\",\n",
    "                \"FC1\",\n",
    "                \"FCz\",\n",
    "                \"FC2\",\n",
    "                \"FC4\",\n",
    "                \"C3\",\n",
    "                \"C1\",\n",
    "                \"Cz\",\n",
    "                \"C2\",\n",
    "                \"C4\",\n",
    "                \"CP3\",\n",
    "                \"CP1\",\n",
    "                \"CPz\",\n",
    "                \"CP2\",\n",
    "                \"CP4\",\n",
    "                \"Fpz\",\n",
    "            ]\n",
    "            bad_channels = [x for x in channels if x not in good_channels]\n",
    "            raw.drop_channels(bad_channels)\n",
    "\n",
    "        # Filter\n",
    "        raw.notch_filter(60, method=\"iir\")\n",
    "        raw.filter(7.0, 32.0, fir_design=\"firwin\", skip_by_annotation=\"edge\")  \n",
    "\n",
    "        # Read epochs\n",
    "        events, _ = events_from_annotations(raw, event_id=experiment[\"event_id\"]) \n",
    "        picks = pick_types(raw.info, meg=False, eeg=True, stim=False, eog=False, exclude=\"bads\")\n",
    "        epochs = Epochs(raw, events, experiment[\"event_id\"], tmin, tmax, proj=True, picks=picks, baseline=None, preload=True)\n",
    "        epochs_data = epochs.get_data()\n",
    "        labels = epochs.events[:, -1]\n",
    "\n",
    "        # Score\n",
    "        start_time = timeit.default_timer()\n",
    "        accuracy = model.score(epochs_data, labels)\n",
    "        elapsed = timeit.default_timer() - start_time\n",
    "        print(f\"[Training] Accuracy: {accuracy:.2%} in {elapsed:.2}s\")\n",
    "        all_accuracies.append(accuracy)"
   ]
  },
  {
   "cell_type": "code",
   "execution_count": 13,
   "metadata": {},
   "outputs": [
    {
     "name": "stdout",
     "output_type": "stream",
     "text": [
      "Global accuracy: 96.22%\n"
     ]
    }
   ],
   "source": [
    "print(f\"Global accuracy: {np.mean(all_accuracies):.2%}\")"
   ]
  }
 ],
 "metadata": {
  "kernelspec": {
   "display_name": "mne",
   "language": "python",
   "name": "python3"
  },
  "language_info": {
   "codemirror_mode": {
    "name": "ipython",
    "version": 3
   },
   "file_extension": ".py",
   "mimetype": "text/x-python",
   "name": "python",
   "nbconvert_exporter": "python",
   "pygments_lexer": "ipython3",
   "version": "3.10.9"
  },
  "orig_nbformat": 4,
  "vscode": {
   "interpreter": {
    "hash": "de53c2a5f3662977df581daedca7ffd392916b4fc8ed6ed2b00e9b2d99e942aa"
   }
  }
 },
 "nbformat": 4,
 "nbformat_minor": 2
}
